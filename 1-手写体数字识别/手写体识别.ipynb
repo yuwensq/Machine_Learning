{
 "cells": [
  {
   "cell_type": "markdown",
   "metadata": {},
   "source": [
    "# 手写数字识别作业\n",
    "- 姓名：徐文斌\n",
    "- 学号：2010234\n",
    "- 专业：计算机科学与技术"
   ]
  },
  {
   "cell_type": "markdown",
   "metadata": {},
   "source": [
    "### 实验要求\n",
    "题目：基于KNN 的手写数字识别\n",
    "实验条件：给定semeion手写数字数据集，给定kNN分类算法\n",
    "实验要求：\n",
    "1. 基本要求：编程实现kNN算法；给出在不同k值（1，3，5）情况下，kNN算法对手写数字的识别精度（要求采用留一法）\n",
    "2. 中级要求：与weka机器学习包中的kNN分类结果进行对比\n",
    "3. 提高要求：将实验过程结果等图示展出"
   ]
  },
  {
   "cell_type": "markdown",
   "metadata": {},
   "source": [
    "### 实验环境说明\n",
    "本实验使用的python解释器为python3.9，实验通过python-weka-wrapper3来调用weka的相关API。使用[该网站](https://fracpete.github.io/python-weka-wrapper3/install.html#windows-using-anaconda)提供的方法通过anaconda安装python-weka-wrapper3包。"
   ]
  },
  {
   "cell_type": "markdown",
   "metadata": {},
   "source": [
    "### 导入需要的包"
   ]
  },
  {
   "cell_type": "code",
   "execution_count": 1,
   "metadata": {},
   "outputs": [],
   "source": [
    "import math\n",
    "import time\n",
    "import matplotlib.pyplot as plt\n",
    "import numpy as np\n",
    "import weka.core.jvm as jvm\n",
    "from weka.classifiers import Classifier, Evaluation\n",
    "from weka.core.classes import Random\n",
    "from weka.core.converters import Loader"
   ]
  },
  {
   "cell_type": "markdown",
   "metadata": {},
   "source": [
    "### 导入数据集 semeion"
   ]
  },
  {
   "cell_type": "code",
   "execution_count": 2,
   "metadata": {},
   "outputs": [],
   "source": [
    "def read_data(file_path):\n",
    "    \"\"\"\n",
    "    从file_path对应的文件中读取数据，返回一个list[list[]]的data_set。\n",
    "    data_set每个元素的前256个数字为像素点对应的值，最后一个数字为该图像的标注信息。\n",
    "    \"\"\"\n",
    "    data_set = list()\n",
    "    data_sign = list()\n",
    "    with open(file_path, \"r\", encoding=\"UTF-8\") as f:\n",
    "        for line in f:\n",
    "            single_data = list()\n",
    "            words = line.split(\" \")\n",
    "            for i in range(256):\n",
    "                single_data.append(float(words[i]))\n",
    "            for i in range(10):\n",
    "                if words[256 + i] == \"1\":\n",
    "                    single_data.append(i)\n",
    "                    break\n",
    "            data_set.append(single_data)\n",
    "    return data_set"
   ]
  },
  {
   "cell_type": "code",
   "execution_count": 3,
   "metadata": {},
   "outputs": [
    {
     "data": {
      "text/plain": [
       "(1593, 257)"
      ]
     },
     "execution_count": 3,
     "metadata": {},
     "output_type": "execute_result"
    }
   ],
   "source": [
    "data_set = read_data(\"semeion.data\")\n",
    "np.shape(data_set)"
   ]
  },
  {
   "cell_type": "markdown",
   "metadata": {},
   "source": [
    "### 基本要求\n",
    "编程实现kNN算法；给出不同k值（1，3，5）情况下，kNN算法对手写数字的识别精度（模板中采用的是普通方法分割训练集和测试集，作业中需要用留一法）"
   ]
  },
  {
   "cell_type": "markdown",
   "metadata": {},
   "source": [
    "#### 首先定义距离函数\n",
    "这里我选择使用欧氏距离"
   ]
  },
  {
   "cell_type": "code",
   "execution_count": 4,
   "metadata": {},
   "outputs": [],
   "source": [
    "def distance(data1, data2):\n",
    "    \"\"\"\n",
    "    输入两个向量，返回他们的欧氏距离\n",
    "    \"\"\"\n",
    "    v1 = np.array(data1)\n",
    "    v2 = np.array(data2)\n",
    "    result = np.sqrt(sum((v1 - v2) ** 2))\n",
    "    return result"
   ]
  },
  {
   "cell_type": "code",
   "execution_count": 5,
   "metadata": {
    "scrolled": true
   },
   "outputs": [
    {
     "data": {
      "text/plain": [
       "1.7320508075688772"
      ]
     },
     "execution_count": 5,
     "metadata": {},
     "output_type": "execute_result"
    }
   ],
   "source": [
    "vector1 = [1, 2, 3]\n",
    "vector2 = [2, 3, 4]\n",
    "distance(vector1, vector2)"
   ]
  },
  {
   "cell_type": "markdown",
   "metadata": {},
   "source": [
    "#### kNN函数定义"
   ]
  },
  {
   "cell_type": "code",
   "execution_count": 6,
   "metadata": {},
   "outputs": [],
   "source": [
    "def kNN(data_set, k):\n",
    "    \"\"\"\n",
    "    使用留一法，计算kNN算法预测的准确率，返回准确率\n",
    "    \"\"\"\n",
    "    total = 0\n",
    "    acc = 0\n",
    "    t1 = time.time()\n",
    "    for i in range(len(data_set)):\n",
    "        now_test_data = data_set[i]\n",
    "        distance_set = list()\n",
    "        for j in range(len(data_set)):\n",
    "            if i == j:\n",
    "                continue\n",
    "            now_train_data = data_set[j]\n",
    "            now_distance = distance(now_test_data[:len(now_test_data) - 1], now_train_data[:len(now_train_data) - 1])\n",
    "            distance_set.append([now_distance, now_train_data[-1]])\n",
    "        distance_set = sorted(distance_set, key=lambda l: l[0], reverse=False)\n",
    "        frequency_list = [0 for i in range(10)]\n",
    "        for j in range(k):\n",
    "            frequency_list[distance_set[j][1]] += 1\n",
    "        max_frequency = max(frequency_list)\n",
    "        category = 0\n",
    "        for j in range(10):\n",
    "            if frequency_list[j] == max_frequency:\n",
    "                category = j\n",
    "                break\n",
    "        if now_test_data[-1] == category:\n",
    "            acc += 1\n",
    "        total += 1\n",
    "    t2 = time.time()\n",
    "    accRate = 1.0 * acc / total\n",
    "    print(\"k={k_}时，测试个数为{total_}，正确个数为：{acc_}，准确率为：{accRate_}，用时：{time_}秒\".format(k_=k, total_=total, acc_=acc, accRate_=accRate, time_=t2-t1))\n",
    "    return accRate"
   ]
  },
  {
   "cell_type": "markdown",
   "metadata": {},
   "source": [
    "#### 实验结果："
   ]
  },
  {
   "cell_type": "code",
   "execution_count": 7,
   "metadata": {},
   "outputs": [
    {
     "name": "stdout",
     "output_type": "stream",
     "text": [
      "k=1时，测试个数为1593，正确个数为：1461，准确率为：0.9171374764595104，用时：114.22003412246704秒\n",
      "k=3时，测试个数为1593，正确个数为：1440，准确率为：0.903954802259887，用时：115.93789005279541秒\n",
      "k=5时，测试个数为1593，正确个数为：1440，准确率为：0.903954802259887，用时：113.37974286079407秒\n"
     ]
    },
    {
     "data": {
      "text/plain": [
       "0.903954802259887"
      ]
     },
     "execution_count": 7,
     "metadata": {},
     "output_type": "execute_result"
    }
   ],
   "source": [
    "kNN(data_set, 1)\n",
    "kNN(data_set, 3)\n",
    "kNN(data_set, 5)"
   ]
  },
  {
   "cell_type": "markdown",
   "metadata": {},
   "source": [
    "### 算法优化\n",
    "可以看到，实现的kNN算法运行耗时较长。上述实现的算法每次循环都要计算一个实例和其余所有实例的距离，这导致性能的下降，我们可以创建一个二维数组来存储程序运行过程中算出的两个实例之间的距离，从而当下次需要这个距离时，直接查表获得即可，这样应该可以节省一半的时间。优化算法如下："
   ]
  },
  {
   "cell_type": "code",
   "execution_count": 8,
   "metadata": {},
   "outputs": [],
   "source": [
    "def kNN_opt(data_set, k):\n",
    "    \"\"\"\n",
    "    使用留一法，计算kNN算法预测的准确率，返回准确率，优化算法\n",
    "    \"\"\"\n",
    "    total = 0\n",
    "    acc = 0\n",
    "    dist_table = np.zeros((len(data_set), len(data_set))) # 创建距离表\n",
    "    t1 = time.time()\n",
    "    for i in range(len(data_set)):\n",
    "        now_test_data = data_set[i]\n",
    "        distance_set = list()\n",
    "        for j in range(len(data_set)):\n",
    "            if i == j:\n",
    "                continue\n",
    "            now_train_data = data_set[j]\n",
    "            if dist_table[i][j] != 0: # 若距离表有内容，直接取，否则计算距离并赋值\n",
    "                now_distance = dist_table[i][j]\n",
    "            else:\n",
    "                now_distance = distance(now_test_data[:len(now_test_data) - 1], now_train_data[:len(now_train_data) - 1])\n",
    "                dist_table[i][j] = dist_table[j][i] = now_distance\n",
    "            distance_set.append([now_distance, now_train_data[-1]])\n",
    "        distance_set = sorted(distance_set, key=lambda l: l[0], reverse=False)\n",
    "        frequency_list = [0 for i in range(10)]\n",
    "        for j in range(k):\n",
    "            frequency_list[distance_set[j][1]] += 1\n",
    "        max_frequency = max(frequency_list)\n",
    "        category = 0\n",
    "        for j in range(10):\n",
    "            if frequency_list[j] == max_frequency:\n",
    "                category = j\n",
    "                break\n",
    "        if now_test_data[-1] == category:\n",
    "            acc += 1\n",
    "        total += 1\n",
    "    t2 = time.time()\n",
    "    accRate = 1.0 * acc / total\n",
    "    print(\"k={k_}时，测试个数为{total_}，正确个数为：{acc_}，准确率为：{accRate_}，用时：{time_}秒\".format(k_=k, total_=total, acc_=acc, accRate_=accRate, time_=t2-t1))\n",
    "    return accRate"
   ]
  },
  {
   "cell_type": "markdown",
   "metadata": {},
   "source": [
    "#### 实验结果：\n",
    "如下，优化后的算法运行时间大致为未优化算法运行时间的一半。"
   ]
  },
  {
   "cell_type": "code",
   "execution_count": 9,
   "metadata": {},
   "outputs": [
    {
     "name": "stdout",
     "output_type": "stream",
     "text": [
      "k=1时，测试个数为1593，正确个数为：1461，准确率为：0.9171374764595104，用时：60.824899673461914秒\n",
      "k=3时，测试个数为1593，正确个数为：1440，准确率为：0.903954802259887，用时：60.21754217147827秒\n",
      "k=5时，测试个数为1593，正确个数为：1440，准确率为：0.903954802259887，用时：58.37820911407471秒\n"
     ]
    },
    {
     "data": {
      "text/plain": [
       "0.903954802259887"
      ]
     },
     "execution_count": 9,
     "metadata": {},
     "output_type": "execute_result"
    }
   ],
   "source": [
    "kNN_opt(data_set, 1)\n",
    "kNN_opt(data_set, 3)\n",
    "kNN_opt(data_set, 5)"
   ]
  },
  {
   "cell_type": "markdown",
   "metadata": {},
   "source": [
    "### 中级要求\n",
    "与weka机器学习包中的kNN分类结果进行对比"
   ]
  },
  {
   "cell_type": "markdown",
   "metadata": {},
   "source": [
    "#### 首先启动jvm虚拟机"
   ]
  },
  {
   "cell_type": "code",
   "execution_count": 10,
   "metadata": {},
   "outputs": [
    {
     "name": "stderr",
     "output_type": "stream",
     "text": [
      "DEBUG:weka.core.jvm:Adding bundled jars\n",
      "DEBUG:weka.core.jvm:Classpath=['D:\\\\Anaconda3\\\\envs\\\\py39\\\\Lib\\\\site-packages\\\\javabridge\\\\jars\\\\rhino-1.7R4.jar', 'D:\\\\Anaconda3\\\\envs\\\\py39\\\\Lib\\\\site-packages\\\\javabridge\\\\jars\\\\runnablequeue.jar', 'D:\\\\Anaconda3\\\\envs\\\\py39\\\\Lib\\\\site-packages\\\\javabridge\\\\jars\\\\cpython.jar', 'D:\\\\Anaconda3\\\\envs\\\\py39\\\\lib\\\\site-packages\\\\weka\\\\lib\\\\python-weka-wrapper.jar', 'D:\\\\Anaconda3\\\\envs\\\\py39\\\\lib\\\\site-packages\\\\weka\\\\lib\\\\weka.jar']\n",
      "DEBUG:weka.core.jvm:MaxHeapSize=default\n",
      "DEBUG:weka.core.jvm:Package support enabled\n"
     ]
    }
   ],
   "source": [
    "jvm.start(packages=True)"
   ]
  },
  {
   "cell_type": "markdown",
   "metadata": {},
   "source": [
    "#### 生成ARFF格式的数据集"
   ]
  },
  {
   "cell_type": "code",
   "execution_count": 11,
   "metadata": {},
   "outputs": [],
   "source": [
    "def gen_arff_file(data_set, obj_file_path):\n",
    "    \"\"\"\n",
    "    利用传入的数据集生成weka可用的arff格式的文件，存到磁盘中\n",
    "    \"\"\"\n",
    "    with open(obj_file_path, \"w\", encoding=\"UTF-8\") as f:\n",
    "        f.write(\"@RELATION digit\\n\\n\")\n",
    "        for i in range(1, 257):\n",
    "            f.write(f\"@ATTRIBUTE pix{i} REAL\\n\")\n",
    "        f.write(\"@ATTRIBUTE class {0, 1, 2, 3, 4, 5, 6, 7, 8, 9}\\n\\n\")\n",
    "        f.write(\"@DATA\\n\")\n",
    "        for data in data_set:\n",
    "            for ele in data[:-1]:\n",
    "                f.write(f\"{ele},\")\n",
    "            f.write(f\"{data[-1]}\\n\")"
   ]
  },
  {
   "cell_type": "markdown",
   "metadata": {},
   "source": [
    "#### 生成ARFF文件并将生成的数据load到内存中"
   ]
  },
  {
   "cell_type": "code",
   "execution_count": 12,
   "metadata": {},
   "outputs": [
    {
     "data": {
      "text/plain": [
       "1593"
      ]
     },
     "execution_count": 12,
     "metadata": {},
     "output_type": "execute_result"
    }
   ],
   "source": [
    "gen_arff_file(data_set, \"semeion.arff\") # 生成arff文件\n",
    "loader = Loader(classname=\"weka.core.converters.ArffLoader\")\n",
    "data = loader.load_file(\"semeion.arff\") # 从arff文件获取数据\n",
    "data.class_is_last() # 将数据的最后一个属性设置为class\n",
    "data.num_instances"
   ]
  },
  {
   "cell_type": "markdown",
   "metadata": {},
   "source": [
    "#### weka_kNN函数定义"
   ]
  },
  {
   "cell_type": "code",
   "execution_count": 13,
   "metadata": {},
   "outputs": [],
   "source": [
    "def weka_kNN(data_set, k, detail_info=False):\n",
    "    t1 = time.time()\n",
    "    classifier = Classifier(classname=\"weka.classifiers.lazy.IBk\",\n",
    "                        options=[\"-K\", f\"{k}\"])\n",
    "    classifier.build_classifier(data)\n",
    "    e = Evaluation(data)\n",
    "    e.crossvalidate_model(classifier, data, data_set.num_instances, Random(1)) # 这里把folders设置为data_set.num_instances就是留一法了\n",
    "    t2 = time.time()\n",
    "    if detail_info:\n",
    "        print(\"------------------------------------------------------------------------------------------\")\n",
    "        print(classifier)\n",
    "        print(e.summary())\n",
    "        print(f\"用时{t2 - t1}秒\")\n",
    "    else:\n",
    "        print(f\"k={k}时，weka包中knn模型训练手写体识别的准确率为：{e.percent_correct / 100}，用时{t2 - t1}秒\")\n",
    "    return e.percent_correct / 100"
   ]
  },
  {
   "cell_type": "markdown",
   "metadata": {},
   "source": [
    "#### 实验结果："
   ]
  },
  {
   "cell_type": "code",
   "execution_count": 14,
   "metadata": {},
   "outputs": [
    {
     "name": "stdout",
     "output_type": "stream",
     "text": [
      "------------------------------------------------------------------------------------------\n",
      "IB1 instance-based classifier\n",
      "using 1 nearest neighbour(s) for classification\n",
      "\n",
      "\n",
      "Correctly Classified Instances        1460               91.651  %\n",
      "Incorrectly Classified Instances       133                8.349  %\n",
      "Kappa statistic                          0.9072\n",
      "Mean absolute error                      0.0173\n",
      "Root mean squared error                  0.1255\n",
      "Relative absolute error                  9.6279 %\n",
      "Root relative squared error             41.8064 %\n",
      "Total Number of Instances             1593     \n",
      "\n",
      "用时14.797832489013672秒\n",
      "------------------------------------------------------------------------------------------\n",
      "IB1 instance-based classifier\n",
      "using 3 nearest neighbour(s) for classification\n",
      "\n",
      "\n",
      "Correctly Classified Instances        1437               90.2072 %\n",
      "Incorrectly Classified Instances       156                9.7928 %\n",
      "Kappa statistic                          0.8912\n",
      "Mean absolute error                      0.0234\n",
      "Root mean squared error                  0.1151\n",
      "Relative absolute error                 12.9779 %\n",
      "Root relative squared error             38.3499 %\n",
      "Total Number of Instances             1593     \n",
      "\n",
      "用时13.986932039260864秒\n",
      "------------------------------------------------------------------------------------------\n",
      "IB1 instance-based classifier\n",
      "using 5 nearest neighbour(s) for classification\n",
      "\n",
      "\n",
      "Correctly Classified Instances        1445               90.7094 %\n",
      "Incorrectly Classified Instances       148                9.2906 %\n",
      "Kappa statistic                          0.8968\n",
      "Mean absolute error                      0.0278\n",
      "Root mean squared error                  0.1157\n",
      "Relative absolute error                 15.4309 %\n",
      "Root relative squared error             38.5536 %\n",
      "Total Number of Instances             1593     \n",
      "\n",
      "用时14.781548023223877秒\n"
     ]
    },
    {
     "data": {
      "text/plain": [
       "0.9070935342121783"
      ]
     },
     "execution_count": 14,
     "metadata": {},
     "output_type": "execute_result"
    }
   ],
   "source": [
    "weka_kNN(data, 1, detail_info=True)\n",
    "weka_kNN(data, 3, detail_info=True)\n",
    "weka_kNN(data, 5, detail_info=True)"
   ]
  },
  {
   "cell_type": "markdown",
   "metadata": {},
   "source": [
    "### 高级要求\n",
    "将实验过程结果等图示展出"
   ]
  },
  {
   "cell_type": "markdown",
   "metadata": {},
   "source": [
    "#### 首先，获得k从1到30自己实现的kNN和调用weka的kNN算法的准确率"
   ]
  },
  {
   "cell_type": "code",
   "execution_count": 15,
   "metadata": {
    "scrolled": false
   },
   "outputs": [
    {
     "name": "stdout",
     "output_type": "stream",
     "text": [
      "k=1时，测试个数为1593，正确个数为：1461，准确率为：0.9171374764595104，用时：60.90468883514404秒\n",
      "k=2时，测试个数为1593，正确个数为：1402，准确率为：0.8801004394224733，用时：57.80709266662598秒\n",
      "k=3时，测试个数为1593，正确个数为：1440，准确率为：0.903954802259887，用时：60.645740270614624秒\n",
      "k=4时，测试个数为1593，正确个数为：1442，准确率为：0.9052102950408035，用时：61.507938861846924秒\n",
      "k=5时，测试个数为1593，正确个数为：1440，准确率为：0.903954802259887，用时：60.96565556526184秒\n",
      "k=6时，测试个数为1593，正确个数为：1441，准确率为：0.9045825486503453，用时：58.65621042251587秒\n",
      "k=7时，测试个数为1593，正确个数为：1450，准确率为：0.9102322661644695，用时：61.725046157836914秒\n",
      "k=8时，测试个数为1593，正确个数为：1446，准确率为：0.9077212806026366，用时：57.312278032302856秒\n",
      "k=9时，测试个数为1593，正确个数为：1451，准确率为：0.9108600125549278，用时：56.79388451576233秒\n",
      "k=10时，测试个数为1593，正确个数为：1440，准确率为：0.903954802259887，用时：56.71844553947449秒\n",
      "k=11时，测试个数为1593，正确个数为：1448，准确率为：0.9089767733835531，用时：57.247565031051636秒\n",
      "k=12时，测试个数为1593，正确个数为：1444，准确率为：0.90646578782172，用时：55.86270761489868秒\n",
      "k=13时，测试个数为1593，正确个数为：1441，准确率为：0.9045825486503453，用时：54.42723488807678秒\n",
      "k=14时，测试个数为1593，正确个数为：1441，准确率为：0.9045825486503453，用时：54.40998935699463秒\n",
      "k=15时，测试个数为1593，正确个数为：1435，准确率为：0.9008160703075957，用时：54.423277854919434秒\n",
      "k=16时，测试个数为1593，正确个数为：1434，准确率为：0.9001883239171374，用时：54.44702911376953秒\n",
      "k=17时，测试个数为1593，正确个数为：1422，准确率为：0.8926553672316384，用时：56.921961069107056秒\n",
      "k=18时，测试个数为1593，正确个数为：1422，准确率为：0.8926553672316384，用时：57.50050210952759秒\n",
      "k=19时，测试个数为1593，正确个数为：1420，准确率为：0.8913998744507219，用时：57.802446603775024秒\n",
      "k=20时，测试个数为1593，正确个数为：1428，准确率为：0.896421845574388，用时：54.704577922821045秒\n",
      "k=21时，测试个数为1593，正确个数为：1426，准确率为：0.8951663527934715，用时：54.488049030303955秒\n",
      "k=22时，测试个数为1593，正确个数为：1432，准确率为：0.898932831136221，用时：54.519540786743164秒\n",
      "k=23时，测试个数为1593，正确个数为：1421，准确率为：0.8920276208411801，用时：54.7703332901001秒\n",
      "k=24时，测试个数为1593，正确个数为：1424，准确率为：0.8939108600125549，用时：54.74689030647278秒\n",
      "k=25时，测试个数为1593，正确个数为：1420，准确率为：0.8913998744507219，用时：54.567152976989746秒\n",
      "k=26时，测试个数为1593，正确个数为：1420，准确率为：0.8913998744507219，用时：54.52056336402893秒\n",
      "k=27时，测试个数为1593，正确个数为：1413，准确率为：0.8870056497175142，用时：54.51042103767395秒\n",
      "k=28时，测试个数为1593，正确个数为：1406，准确率为：0.8826114249843063，用时：54.85881185531616秒\n",
      "k=29时，测试个数为1593，正确个数为：1406，准确率为：0.8826114249843063，用时：56.8458092212677秒\n",
      "k=30时，测试个数为1593，正确个数为：1407，准确率为：0.8832391713747646，用时：54.94043827056885秒\n",
      "k=1时，weka包中knn模型训练手写体识别的准确率为：0.916509730069052，用时12.465106725692749秒\n",
      "k=2时，weka包中knn模型训练手写体识别的准确率为：0.8851224105461394，用时15.001839876174927秒\n",
      "k=3时，weka包中knn模型训练手写体识别的准确率为：0.9020715630885122，用时15.227149724960327秒\n",
      "k=4时，weka包中knn模型训练手写体识别的准确率为：0.9077212806026366，用时15.228161811828613秒\n",
      "k=5时，weka包中knn模型训练手写体识别的准确率为：0.9070935342121783，用时15.385281801223755秒\n",
      "k=6时，weka包中knn模型训练手写体识别的准确率为：0.9070935342121783，用时15.491119146347046秒\n",
      "k=7时，weka包中knn模型训练手写体识别的准确率为：0.9121155053358443，用时15.509620904922485秒\n",
      "k=8时，weka包中knn模型训练手写体识别的准确率为：0.9089767733835531，用时15.49721384048462秒\n",
      "k=9时，weka包中knn模型训练手写体识别的准确率为：0.9089767733835531，用时15.513041973114014秒\n",
      "k=10时，weka包中knn模型训练手写体识别的准确率为：0.9058380414312617，用时15.681903600692749秒\n",
      "k=11时，weka包中knn模型训练手写体识别的准确率为：0.9058380414312617，用时15.6931471824646秒\n",
      "k=12时，weka包中knn模型训练手写体识别的准确率为：0.9052102950408034，用时15.738780975341797秒\n",
      "k=13时，weka包中knn模型训练手写体识别的准确率为：0.9045825486503454，用时15.730730772018433秒\n",
      "k=14时，weka包中knn模型训练手写体识别的准确率为：0.901443816698054，用时15.825273513793945秒\n",
      "k=15时，weka包中knn模型训练手写体识别的准确率为：0.896421845574388，用时15.787640810012817秒\n",
      "k=16时，weka包中knn模型训练手写体识别的准确率为：0.896421845574388，用时15.759234428405762秒\n",
      "k=17时，weka包中knn模型训练手写体识别的准确率为：0.8945386064030132，用时15.806193590164185秒\n",
      "k=18时，weka包中knn模型训练手写体识别的准确率为：0.8939108600125549，用时15.784223318099976秒\n",
      "k=19时，weka包中knn模型训练手写体识别的准确率为：0.8939108600125549，用时18.26118803024292秒\n",
      "k=20时，weka包中knn模型训练手写体识别的准确率为：0.8957940991839297，用时19.212663888931274秒\n",
      "k=21时，weka包中knn模型训练手写体识别的准确率为：0.8951663527934715，用时15.957045078277588秒\n",
      "k=22时，weka包中knn模型训练手写体识别的准确率为：0.8976773383553045，用时16.015157222747803秒\n",
      "k=23时，weka包中knn模型训练手写体识别的准确率为：0.8939108600125549，用时15.894640684127808秒\n",
      "k=24时，weka包中knn模型训练手写体识别的准确率为：0.8932831136220966，用时15.948397397994995秒\n",
      "k=25时，weka包中knn模型训练手写体识别的准确率为：0.8913998744507219，用时15.997476816177368秒\n",
      "k=26时，weka包中knn模型训练手写体识别的准确率为：0.8876333961079723，用时18.096117973327637秒\n",
      "k=27时，weka包中knn模型训练手写体识别的准确率为：0.8857501569365976，用时17.362261533737183秒\n",
      "k=28时，weka包中knn模型训练手写体识别的准确率为：0.8857501569365976，用时16.971762657165527秒\n",
      "k=29时，weka包中knn模型训练手写体识别的准确率为：0.8888888888888888，用时16.01758337020874秒\n",
      "k=30时，weka包中knn模型训练手写体识别的准确率为：0.8863779033270559，用时16.029033184051514秒\n"
     ]
    }
   ],
   "source": [
    "scores1 = list()\n",
    "scores2 = list()\n",
    "for k in range(1, 31):\n",
    "    score = kNN_opt(data_set, k)\n",
    "    scores1.append(score)\n",
    "for k in range(1, 31):\n",
    "    score = weka_kNN(data, k)\n",
    "    scores2.append(score)"
   ]
  },
  {
   "cell_type": "markdown",
   "metadata": {},
   "source": [
    "#### 然后画图显示结果"
   ]
  },
  {
   "cell_type": "code",
   "execution_count": 16,
   "metadata": {},
   "outputs": [
    {
     "data": {
      "image/png": "[encoded data removed]",
      "text/plain": [
       "<Figure size 640x480 with 1 Axes>"
      ]
     },
     "metadata": {},
     "output_type": "display_data"
    }
   ],
   "source": [
    "plt.xlabel(\"k\")\n",
    "plt.ylabel(\"acc\")\n",
    "# 红色为自己实现的，蓝色为weka包里的\n",
    "plt.plot(range(1,31), scores1, 'r')\n",
    "plt.plot(range(1,31), scores2, 'b')\n",
    "plt.show()"
   ]
  },
  {
   "cell_type": "markdown",
   "metadata": {},
   "source": [
    "### 实验结束，关闭jvm虚拟机"
   ]
  },
  {
   "cell_type": "code",
   "execution_count": 17,
   "metadata": {},
   "outputs": [],
   "source": [
    "jvm.stop()"
   ]
  }
 ],
 "metadata": {
  "kernelspec": {
   "display_name": "py39",
   "language": "python",
   "name": "py39"
  },
  "language_info": {
   "codemirror_mode": {
    "name": "ipython",
    "version": 3
   },
   "file_extension": ".py",
   "mimetype": "text/x-python",
   "name": "python",
   "nbconvert_exporter": "python",
   "pygments_lexer": "ipython3",
   "version": "3.9.13"
  }
 },
 "nbformat": 4,
 "nbformat_minor": 2
}
